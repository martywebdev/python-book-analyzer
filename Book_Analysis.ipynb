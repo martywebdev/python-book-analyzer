{
 "cells": [
  {
   "metadata": {},
   "cell_type": "markdown",
   "source": "# Load the book",
   "id": "e8208f388fd0ebb1"
  },
  {
   "cell_type": "code",
   "id": "initial_id",
   "metadata": {
    "collapsed": true,
    "ExecuteTime": {
     "end_time": "2025-09-02T13:28:16.073071Z",
     "start_time": "2025-09-02T13:28:16.066454Z"
    }
   },
   "source": [
    "with open('miracle_in_the_andes.txt', 'r', encoding='utf-8') as f:\n",
    "    book = f.read()"
   ],
   "outputs": [],
   "execution_count": 3
  },
  {
   "metadata": {
    "ExecuteTime": {
     "end_time": "2025-09-02T13:29:30.421747Z",
     "start_time": "2025-09-02T13:29:30.415902Z"
    }
   },
   "cell_type": "code",
   "source": "type(book)",
   "id": "b22f4345b527137c",
   "outputs": [
    {
     "data": {
      "text/plain": [
       "str"
      ]
     },
     "execution_count": 5,
     "metadata": {},
     "output_type": "execute_result"
    }
   ],
   "execution_count": 5
  },
  {
   "metadata": {},
   "cell_type": "markdown",
   "source": "# How many chapters?",
   "id": "c5a9619faf352ada"
  },
  {
   "metadata": {},
   "cell_type": "markdown",
   "source": "### With string methods",
   "id": "cfa9a514f186d3ba"
  },
  {
   "metadata": {
    "ExecuteTime": {
     "end_time": "2025-09-02T13:31:59.532741Z",
     "start_time": "2025-09-02T13:31:59.524721Z"
    }
   },
   "cell_type": "code",
   "source": "book.count('Chapter')",
   "id": "9669f530fedf0215",
   "outputs": [
    {
     "data": {
      "text/plain": [
       "11"
      ]
     },
     "execution_count": 6,
     "metadata": {},
     "output_type": "execute_result"
    }
   ],
   "execution_count": 6
  },
  {
   "metadata": {},
   "cell_type": "markdown",
   "source": "### With regex",
   "id": "eef1b034f586db3d"
  },
  {
   "metadata": {
    "ExecuteTime": {
     "end_time": "2025-09-02T13:37:31.077497Z",
     "start_time": "2025-09-02T13:37:31.072102Z"
    }
   },
   "cell_type": "code",
   "source": [
    "import re\n",
    "pattern = re.compile('Chapter [0-9]+')\n",
    "findings = re.findall(pattern, book)\n",
    "len(findings)"
   ],
   "id": "b950dd4f75d04cc8",
   "outputs": [
    {
     "data": {
      "text/plain": [
       "10"
      ]
     },
     "execution_count": 15,
     "metadata": {},
     "output_type": "execute_result"
    }
   ],
   "execution_count": 15
  },
  {
   "metadata": {},
   "cell_type": "code",
   "outputs": [],
   "execution_count": null,
   "source": "",
   "id": "6ad08fad09ea8ff7"
  }
 ],
 "metadata": {
  "kernelspec": {
   "display_name": "Python 3",
   "language": "python",
   "name": "python3"
  },
  "language_info": {
   "codemirror_mode": {
    "name": "ipython",
    "version": 2
   },
   "file_extension": ".py",
   "mimetype": "text/x-python",
   "name": "python",
   "nbconvert_exporter": "python",
   "pygments_lexer": "ipython2",
   "version": "2.7.6"
  }
 },
 "nbformat": 4,
 "nbformat_minor": 5
}
