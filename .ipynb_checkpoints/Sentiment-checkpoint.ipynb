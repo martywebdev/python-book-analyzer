{
 "cells": [
  {
   "cell_type": "markdown",
   "id": "fdd3ad0fc1cce52b",
   "metadata": {
    "collapsed": true,
    "jupyter": {
     "outputs_hidden": true
    }
   },
   "source": [
    "# Load the Book"
   ]
  },
  {
   "cell_type": "code",
   "execution_count": 9,
   "id": "789484770bf752af",
   "metadata": {
    "ExecuteTime": {
     "end_time": "2025-09-03T13:11:49.827469Z",
     "start_time": "2025-09-03T13:11:49.767835Z"
    }
   },
   "outputs": [
    {
     "data": {
      "text/plain": [
       "'Chapter 1\\n'"
      ]
     },
     "execution_count": 9,
     "metadata": {},
     "output_type": "execute_result"
    }
   ],
   "source": [
    "with open(\"miracle_in_the_andes.txt\", 'r', encoding='utf-8') as file:\n",
    "    book = file.read()\n",
    "\n",
    "book[:10]"
   ]
  },
  {
   "cell_type": "markdown",
   "id": "25e764613fc63e87",
   "metadata": {},
   "source": [
    "# The most used words (non-articles)"
   ]
  },
  {
   "cell_type": "code",
   "execution_count": 10,
   "id": "de670a554266d89c",
   "metadata": {
    "ExecuteTime": {
     "end_time": "2025-09-03T13:13:06.435179Z",
     "start_time": "2025-09-03T13:13:06.407832Z"
    }
   },
   "outputs": [
    {
     "data": {
      "text/plain": [
       "['chapter', 'before', 'it', 'was', 'friday']"
      ]
     },
     "execution_count": 10,
     "metadata": {},
     "output_type": "execute_result"
    }
   ],
   "source": [
    "import re\n",
    "pattern = re.compile(\"[a-zA-Z]+\")\n",
    "findings = re.findall(pattern, book.lower())\n",
    "findings[:5]"
   ]
  },
  {
   "cell_type": "code",
   "execution_count": 3,
   "id": "f2fc03a70f0fc9d0",
   "metadata": {
    "ExecuteTime": {
     "end_time": "2025-09-03T13:14:15.128573Z",
     "start_time": "2025-09-03T13:14:15.091704Z"
    }
   },
   "outputs": [],
   "source": [
    "d = {}\n",
    "for word in findings:\n",
    "    if word in d.keys():\n",
    "        d[word] = d[word] + 1\n",
    "    else:\n",
    "        d[word] = 1\n"
   ]
  },
  {
   "cell_type": "code",
   "execution_count": 19,
   "id": "620f04ee23de34b0",
   "metadata": {
    "ExecuteTime": {
     "end_time": "2025-09-03T13:42:19.241514Z",
     "start_time": "2025-09-03T13:42:19.232644Z"
    },
    "collapsed": true,
    "jupyter": {
     "outputs_hidden": true
    }
   },
   "outputs": [
    {
     "data": {
      "text/plain": [
       "[(5346, 'the'),\n",
       " (2795, 'and'),\n",
       " (2729, 'i'),\n",
       " (2400, 'to'),\n",
       " (2060, 'of'),\n",
       " (1566, 'a'),\n",
       " (1430, 'was'),\n",
       " (1419, 'in'),\n",
       " (1226, 'we'),\n",
       " (1169, 'my')]"
      ]
     },
     "execution_count": 19,
     "metadata": {},
     "output_type": "execute_result"
    }
   ],
   "source": [
    "d_list = [(value, key) for (key, value) in d.items()]\n",
    "\n",
    "d_list = sorted(d_list, reverse=True)\n",
    "\n",
    "d_list[:10]\n"
   ]
  },
  {
   "cell_type": "code",
   "execution_count": 17,
   "id": "74428d465cdaf52",
   "metadata": {},
   "outputs": [],
   "source": [
    "import nltk\n",
    "\n",
    "from nltk.corpus import stopwords\n",
    "english_stopwords = stopwords.words(\"english\")"
   ]
  },
  {
   "cell_type": "code",
   "execution_count": 22,
   "id": "111e582d-3194-4d22-ae46-1346d184a4ac",
   "metadata": {},
   "outputs": [
    {
     "data": {
      "text/plain": [
       "[('would', 575),\n",
       " ('us', 519),\n",
       " ('said', 292),\n",
       " ('roberto', 284),\n",
       " ('could', 252),\n",
       " ('one', 249),\n",
       " ('snow', 227),\n",
       " ('mountain', 183),\n",
       " ('time', 182),\n",
       " ('like', 165)]"
      ]
     },
     "execution_count": 22,
     "metadata": {},
     "output_type": "execute_result"
    }
   ],
   "source": [
    "filtered_words = []\n",
    "for count, word in d_list:\n",
    "    if word not in english_stopwords:\n",
    "        filtered_words.append((word, count))\n",
    "filtered_words[:10]"
   ]
  },
  {
   "cell_type": "markdown",
   "id": "d9866db7-ae7d-43f1-9c49-6687c511d1fc",
   "metadata": {},
   "source": [
    "# Sentiment Analysis: What is the most positive and the most negative chapter"
   ]
  },
  {
   "cell_type": "code",
   "execution_count": null,
   "id": "a482cde0-aa4d-4e23-bc49-cfd22d7eff4e",
   "metadata": {},
   "outputs": [],
   "source": [
    "from nltk."
   ]
  }
 ],
 "metadata": {
  "kernelspec": {
   "display_name": "Python 3 (ipykernel)",
   "language": "python",
   "name": "python3"
  },
  "language_info": {
   "codemirror_mode": {
    "name": "ipython",
    "version": 3
   },
   "file_extension": ".py",
   "mimetype": "text/x-python",
   "name": "python",
   "nbconvert_exporter": "python",
   "pygments_lexer": "ipython3",
   "version": "3.13.5"
  }
 },
 "nbformat": 4,
 "nbformat_minor": 5
}
